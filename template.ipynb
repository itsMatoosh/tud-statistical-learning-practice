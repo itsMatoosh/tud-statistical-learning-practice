{
 "cells": [
  {
   "cell_type": "markdown",
   "metadata": {},
   "source": [
    "### Digit Recognition Project"
   ]
  },
  {
   "cell_type": "code",
   "execution_count": 1,
   "metadata": {},
   "outputs": [],
   "source": [
    "import numpy as np\n",
    "import pandas as pd\n",
    "\n",
    "from sklearn.tree import DecisionTreeClassifier\n",
    "from sklearn.neighbors import KNeighborsClassifier\n",
    "from sklearn.svm import SVC\n",
    "from sklearn.linear_model import SGDClassifier\n",
    "from sklearn.preprocessing import MinMaxScaler\n",
    "\n",
    "from tqdm import tqdm\n",
    "\n",
    "import matplotlib.pyplot as plt\n",
    "\n",
    "RNG_SEED = 42 # Meaning of Life"
   ]
  },
  {
   "cell_type": "markdown",
   "metadata": {},
   "source": [
    "### Load data"
   ]
  },
  {
   "cell_type": "code",
   "execution_count": 2,
   "metadata": {},
   "outputs": [],
   "source": [
    "labeled_images = np.load(\"labeled_images.npy\")\n",
    "labeled_digits = np.load(\"labeled_digits.npy\")\n",
    "\n",
    "autograder_images = np.load(\"autograder_images.npy\")"
   ]
  },
  {
   "cell_type": "code",
   "execution_count": 3,
   "metadata": {},
   "outputs": [
    {
     "data": {
      "image/png": "[encoded data removed]",
      "text/plain": [
       "<Figure size 1000x500 with 15 Axes>"
      ]
     },
     "metadata": {},
     "output_type": "display_data"
    }
   ],
   "source": [
    "# this is an array containing all the 3750 images of size 28 times 28 pixels:\n",
    "labeled_images.shape\n",
    "\n",
    "# Draw all images\n",
    "fig, axes = plt.subplots(3, 5, figsize=(10, 5))\n",
    "for i, ax in enumerate(axes.flat):\n",
    "    ax.imshow(labeled_images[i], cmap='gray')\n",
    "    ax.set_title(labeled_digits[i])\n",
    "    ax.axis('off')\n",
    "plt.show()"
   ]
  },
  {
   "cell_type": "markdown",
   "metadata": {},
   "source": [
    "### Scale data"
   ]
  },
  {
   "cell_type": "code",
   "execution_count": 4,
   "metadata": {},
   "outputs": [],
   "source": [
    "scaler = MinMaxScaler()\n",
    "labeled_images_reshaped = labeled_images.reshape(-1, 1)\n",
    "scaled_labeled_images = scaler.fit_transform(labeled_images_reshaped).reshape(labeled_images.shape)"
   ]
  },
  {
   "cell_type": "code",
   "execution_count": 5,
   "metadata": {},
   "outputs": [
    {
     "data": {
      "text/plain": [
       "array([1, 7, 0, 5, 2, 8, 4, 0, 4, 2])"
      ]
     },
     "execution_count": 5,
     "metadata": {},
     "output_type": "execute_result"
    }
   ],
   "source": [
    "# this is an array containing the digit corresponding to each image:\n",
    "labeled_digits[0:10]"
   ]
  },
  {
   "cell_type": "markdown",
   "metadata": {},
   "source": [
    "# Regression with Default Hyperparameters"
   ]
  },
  {
   "cell_type": "code",
   "execution_count": 6,
   "metadata": {},
   "outputs": [],
   "source": [
    "from sklearn.datasets import load_iris\n",
    "\n",
    "iris = load_iris() # load dummy for now, we can replace\n",
    "\n",
    "X = scaled_labeled_images.reshape(scaled_labeled_images.shape[0], -1) # replace with the real one\n",
    "y = labeled_digits # replace with the real on "
   ]
  },
  {
   "cell_type": "code",
   "execution_count": 7,
   "metadata": {},
   "outputs": [],
   "source": [
    "models = [('Decision tree', DecisionTreeClassifier(random_state=RNG_SEED)), \n",
    "          ('k-Neighbors', KNeighborsClassifier()),\n",
    "          ('SVC', SVC(random_state=RNG_SEED)), \n",
    "          ('SGD', SGDClassifier(random_state=RNG_SEED, loss='log_loss'))]"
   ]
  },
  {
   "cell_type": "markdown",
   "metadata": {},
   "source": [
    "# Hyperparameter Optimization with GridSearch"
   ]
  },
  {
   "cell_type": "code",
   "execution_count": 9,
   "metadata": {},
   "outputs": [
    {
     "name": "stderr",
     "output_type": "stream",
     "text": [
      "  0%|          | 0/4 [00:00<?, ?it/s]"
     ]
    },
    {
     "name": "stderr",
     "output_type": "stream",
     "text": [
      " 25%|██▌       | 1/4 [05:51<17:33, 351.08s/it]"
     ]
    },
    {
     "name": "stdout",
     "output_type": "stream",
     "text": [
      "Decision tree  done with accuracy  0.7457777777777778\n"
     ]
    },
    {
     "name": "stderr",
     "output_type": "stream",
     "text": [
      " 50%|█████     | 2/4 [05:54<04:53, 146.52s/it]"
     ]
    },
    {
     "name": "stdout",
     "output_type": "stream",
     "text": [
      "k-Neighbors  done with accuracy  0.9271111111111111\n"
     ]
    },
    {
     "name": "stderr",
     "output_type": "stream",
     "text": [
      " 75%|███████▌  | 3/4 [07:41<02:08, 128.71s/it]"
     ]
    },
    {
     "name": "stdout",
     "output_type": "stream",
     "text": [
      "SVC  done with accuracy  0.9235555555555556\n"
     ]
    },
    {
     "name": "stderr",
     "output_type": "stream",
     "text": [
      "100%|██████████| 4/4 [09:27<00:00, 141.97s/it]"
     ]
    },
    {
     "name": "stdout",
     "output_type": "stream",
     "text": [
      "SGD  done with accuracy  0.8826666666666667\n"
     ]
    },
    {
     "name": "stderr",
     "output_type": "stream",
     "text": [
      "\n"
     ]
    }
   ],
   "source": [
    "from sklearn.model_selection import GridSearchCV, train_test_split\n",
    "from sklearn.metrics import accuracy_score\n",
    "X_train, X_test, y_train, y_test = train_test_split(X, y, test_size=0.3, random_state=RNG_SEED)\n",
    "\n",
    "X_train = X_train.reshape(X_train.shape[0], -1)\n",
    "X_test = X_test.reshape(X_test.shape[0], -1)\n",
    "\n",
    "res = {}\n",
    "for name, model in tqdm(models):\n",
    "    params = {} # this has to be defined per model\n",
    "    if isinstance(model, DecisionTreeClassifier):\n",
    "        params = {'criterion':['gini','entropy'], 'max_depth': [5, 10, 20, 30, None],\n",
    "            'max_features': [None, 'sqrt', 'log2'], 'splitter': ['best', 'random'],  'min_samples_split': [2, 5, 10, 20], 'min_samples_leaf': [1, 2, 5, 10], }\n",
    "    elif isinstance(model, KNeighborsClassifier):\n",
    "        params = {'n_neighbors': [3, 5, 7, 9, 11],\n",
    "         'weights': ['uniform', 'distance'],\n",
    "         'leaf_size': [15, 20]}\n",
    "    elif isinstance(model, SVC):\n",
    "        params = {'C': [0.01, 0.1, 1, 10], 'gamma' : [0.001, 0.01, 0.1, 1], 'kernel': ['linear', 'poly']}\n",
    "    elif isinstance(model, SGDClassifier):\n",
    "        params = {'alpha': [0.0001, 0.001, 0.01], 'penalty': ['l2', 'l1'], 'fit_intercept': [True, False]}\n",
    "\n",
    "    clf = GridSearchCV(model, params, cv=5)\n",
    "    \n",
    "    clf.fit(X_train, y_train)\n",
    "    \n",
    "    best_model = clf.best_estimator_\n",
    "    y_pred = best_model.predict(X_test)\n",
    "    \n",
    "    res[name] = {\n",
    "        \"model\": best_model,\n",
    "        \"best_params\": clf.best_params_,\n",
    "        \"accuracy\": accuracy_score(y_test, y_pred)\n",
    "    }\n",
    "    print(name, \" done with accuracy \", accuracy_score(y_test, y_pred))"
   ]
  },
  {
   "cell_type": "code",
   "execution_count": 97,
   "metadata": {},
   "outputs": [
    {
     "data": {
      "text/plain": [
       "{'Decision tree': {'model': DecisionTreeClassifier(random_state=42),\n",
       "  'accuracy': 0.7146666666666667},\n",
       " 'k-Neighbors': {'model': KNeighborsClassifier(),\n",
       "  'accuracy': 0.9137777777777778},\n",
       " 'SVC': {'model': SVC(random_state=42), 'accuracy': 0.9351111111111111},\n",
       " 'SGD': {'model': SGDClassifier(loss='log_loss', random_state=42),\n",
       "  'accuracy': 0.8497777777777777}}"
      ]
     },
     "execution_count": 97,
     "metadata": {},
     "output_type": "execute_result"
    }
   ],
   "source": [
    "res"
   ]
  },
  {
   "cell_type": "code",
   "execution_count": 122,
   "metadata": {},
   "outputs": [
    {
     "name": "stderr",
     "output_type": "stream",
     "text": [
      "100%|██████████| 1000/1000 [00:52<00:00, 18.96it/s]\n"
     ]
    },
    {
     "data": {
      "image/png": "[encoded data removed]",
      "text/plain": [
       "<Figure size 640x480 with 1 Axes>"
      ]
     },
     "metadata": {},
     "output_type": "display_data"
    }
   ],
   "source": [
    "# Plot SGD\n",
    "from sklearn.metrics import log_loss\n",
    "\n",
    "best_params = res['SGD']['best_params']\n",
    "best_sgd = SGDClassifier(**best_params, loss=\"log_loss\")\n",
    "\n",
    "loss = []\n",
    "classes = np.unique(y)\n",
    "\n",
    "for epoch in tqdm(range(1000)):\n",
    "    best_sgd.partial_fit(X_train, y_train, classes=y)\n",
    "    prob = best_sgd.predict_proba(X_train)\n",
    "\n",
    "    epoch_loss = log_loss(y_train, prob)\n",
    "    loss.append(epoch_loss)\n",
    "\n",
    "plt.plot(loss)\n",
    "plt.title(\"Loss Curve of Best SGD Model\")\n",
    "plt.xlabel(\"Epochs\")\n",
    "plt.ylabel(\"Loss\")\n",
    "plt.grid()\n",
    "plt.show()"
   ]
  },
  {
   "cell_type": "markdown",
   "metadata": {},
   "source": [
    "### Prepare autograder submission"
   ]
  },
  {
   "cell_type": "markdown",
   "metadata": {},
   "source": [
    "In the autograder you will need to provide two things: 1) estimate of the accuracy of your model on unseen data, 2) the predictions on the autograder images. For the autograder images we only provide the images and not the class labels. Thus, you cannot compute the accuracy on this data yourself - you need to estimate that with labeled data that is provided (labeled_images, labeled_digits). We will calculate the accuracy for you on the autograder data and you will receive an automatic grade based on this. "
   ]
  },
  {
   "cell_type": "code",
   "execution_count": 5,
   "metadata": {},
   "outputs": [],
   "source": [
    "\n",
    "estimate = np.array([0.7]) # TODO Replace this with your estimate of the accuracy on new data\n",
    "prediction = np.array([-1] * len(autograder_images)) # TODO Replace this with your predictions of your best model\n",
    "# For example using something like:\n",
    "# prediction = my_super_duper_model.predict(autograder_images) \n",
    "\n",
    "result = np.append(estimate, prediction)\n",
    "\n",
    "# The code below will write your estimate and prediction to a file named autograder.txt\n",
    "# You will need to upload this file to the Vocareum autograder\n",
    "pd.DataFrame(result).to_csv(\"autograder.txt\", index=False, header=False)"
   ]
  }
 ],
 "metadata": {
  "kernelspec": {
   "display_name": ".env",
   "language": "python",
   "name": "python3"
  },
  "language_info": {
   "codemirror_mode": {
    "name": "ipython",
    "version": 3
   },
   "file_extension": ".py",
   "mimetype": "text/x-python",
   "name": "python",
   "nbconvert_exporter": "python",
   "pygments_lexer": "ipython3",
   "version": "3.12.6"
  }
 },
 "nbformat": 4,
 "nbformat_minor": 4
}
